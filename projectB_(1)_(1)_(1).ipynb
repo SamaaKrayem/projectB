{
  "nbformat": 4,
  "nbformat_minor": 0,
  "metadata": {
    "colab": {
      "provenance": []
    },
    "kernelspec": {
      "name": "python3",
      "display_name": "Python 3"
    },
    "language_info": {
      "name": "python"
    }
  },
  "cells": [
    {
      "cell_type": "code",
      "execution_count": 3,
      "metadata": {
        "id": "jkG7XE-HjYOE"
      },
      "outputs": [],
      "source": [
        "import gurobipy as gp\n",
        "def solve_linear_problem(filename):\n",
        "  # Read the problem data from a file\n",
        "  problem = gp.read(filename)\n",
        "\n",
        "  # Create a Gurobi model instance\n",
        "  model = gp.Model()\n",
        "\n",
        "  # Add the decision variables to the model\n",
        "  variables = {}\n",
        "  for var_name in problem.getVars():\n",
        "      var = model.addVar(lb=var_name.LB, ub=var_name.UB, obj=var_name.Obj, name=var_name.VarName)\n",
        "      variables[var_name.VarName] = var\n",
        "\n",
        "  # Add the constraints to the model\n",
        "  for constr_name in problem.getConstrs():\n",
        "      constr_expr = problem.getRow(constr_name)\n",
        "      lhs = gp.LinExpr()\n",
        "      for i in range(constr_expr.size()):\n",
        "          lhs += variables[constr_expr.getVar(i).VarName] * constr_expr.getCoeff(i)\n",
        "      constr = model.addConstr(lhs=lhs, sense=constr_name.Sense, rhs=constr_name.RHS)\n",
        "\n",
        "  # Set the objective function\n",
        "  model.setObjective(gp.quicksum(variables[var_name.VarName] * var_name.Obj for var_name in problem.getVars()), problem.ModelSense)\n",
        "\n",
        "  # Optimize the model\n",
        "  model.optimize()\n",
        "  point = []\n",
        "  # Print the optimal objective value and variable values\n",
        "  print(\"##################solution##################\")\n",
        "  print('Optimal objective value:', model.objVal)\n",
        "  for var_name in problem.getVars():\n",
        "      point.append(variables[var_name.VarName].X)\n",
        "      print(var_name.VarName, variables[var_name.VarName].X)\n",
        "  print(point)\n",
        "  print(\"############################################\")\n",
        "  return point"
      ]
    },
    {
      "cell_type": "code",
      "source": [
        "solve_linear_problem('problem.lp')"
      ],
      "metadata": {
        "colab": {
          "base_uri": "https://localhost:8080/"
        },
        "id": "RKmmNN4AWKl8",
        "outputId": "569b1ec5-f06c-4161-f593-c3879051cacc"
      },
      "execution_count": null,
      "outputs": [
        {
          "output_type": "stream",
          "name": "stdout",
          "text": [
            "Read LP format model from file problem.lp\n",
            "Reading time = 0.00 seconds\n",
            ": 2 rows, 2 columns, 3 nonzeros\n",
            "Gurobi Optimizer version 10.0.1 build v10.0.1rc0 (linux64)\n",
            "\n",
            "CPU model: Intel(R) Xeon(R) CPU @ 2.20GHz, instruction set [SSE2|AVX|AVX2]\n",
            "Thread count: 1 physical cores, 2 logical processors, using up to 2 threads\n",
            "\n",
            "Optimize a model with 2 rows, 2 columns and 3 nonzeros\n",
            "Model fingerprint: 0xa7dd2a6a\n",
            "Coefficient statistics:\n",
            "  Matrix range     [1e+00, 2e+00]\n",
            "  Objective range  [1e+00, 2e+00]\n",
            "  Bounds range     [0e+00, 0e+00]\n",
            "  RHS range        [1e+00, 1e+00]\n",
            "Presolve removed 2 rows and 2 columns\n",
            "Presolve time: 0.01s\n",
            "Presolve: All rows and columns removed\n",
            "Iteration    Objective       Primal Inf.    Dual Inf.      Time\n",
            "       0    1.0000000e+00   0.000000e+00   0.000000e+00      0s\n",
            "\n",
            "Solved in 0 iterations and 0.01 seconds (0.00 work units)\n",
            "Optimal objective  1.000000000e+00\n",
            "##################solution##################\n",
            "Optimal objective value: 1.0\n",
            "x 1.0\n",
            "y 0.0\n",
            "{'x': 1.0, 'y': 0.0}\n",
            "############################################\n"
          ]
        },
        {
          "output_type": "stream",
          "name": "stderr",
          "text": [
            "<ipython-input-64-034752c717ba>:1: DeprecationWarning: Deprecated, pass a TempConstr or use Model.addLConstr\n",
            "  solve_linear_problem('problem.lp')\n"
          ]
        },
        {
          "output_type": "execute_result",
          "data": {
            "text/plain": [
              "{'x': 1.0, 'y': 0.0}"
            ]
          },
          "metadata": {},
          "execution_count": 64
        }
      ]
    },
    {
      "cell_type": "code",
      "source": [
        "!pip install gurobipy==10.0.1"
      ],
      "metadata": {
        "colab": {
          "base_uri": "https://localhost:8080/"
        },
        "id": "MKmba-AVnkyp",
        "outputId": "d6ca2cf3-ad03-451a-e308-9fc1cab39540"
      },
      "execution_count": 2,
      "outputs": [
        {
          "output_type": "stream",
          "name": "stdout",
          "text": [
            "Collecting gurobipy==10.0.1\n",
            "  Downloading gurobipy-10.0.1-cp310-cp310-manylinux2014_x86_64.whl (12.7 MB)\n",
            "\u001b[2K     \u001b[90m━━━━━━━━━━━━━━━━━━━━━━━━━━━━━━━━━━━━━━━━\u001b[0m \u001b[32m12.7/12.7 MB\u001b[0m \u001b[31m27.1 MB/s\u001b[0m eta \u001b[36m0:00:00\u001b[0m\n",
            "\u001b[?25hInstalling collected packages: gurobipy\n",
            "Successfully installed gurobipy-10.0.1\n"
          ]
        }
      ]
    },
    {
      "cell_type": "code",
      "source": [
        "import sympy as sp\n",
        "\n",
        "def linearize(func, variables, point):\n",
        "    \"\"\"\n",
        "    Linearizes a nonlinear function using first-order approximation\n",
        "    Args:\n",
        "        func (sp.Basic): Nonlinear function to be linearized\n",
        "        variables (list): List of variables to be linearized\n",
        "        point (dict): Dictionary of values representing the point of linearization\n",
        "    Returns:\n",
        "        sp.Expr: Linearized function\n",
        "    \"\"\"\n",
        "    # Create a symbolic expression for the function\n",
        "    func_expr = sp.sympify(func)\n",
        "\n",
        "    # Create symbolic variables for the point of linearization\n",
        "    point_vars = {var: sp.Symbol(var) for var in variables}\n",
        "\n",
        "    # Replace variables in the function with the symbolic variables\n",
        "    func_expr = func_expr.subs(point_vars)\n",
        "\n",
        "    # Compute the first-order partial derivatives\n",
        "    derivatives = [sp.diff(func_expr, var) for var in variables]\n",
        "\n",
        "    # Evaluate the derivatives at the point of linearization\n",
        "    derivatives_at_point = [derivative.subs(point) for derivative in derivatives]\n",
        "\n",
        "    # Create the linearized function using first-order approximation\n",
        "    linearized_func = func_expr.subs(zip(variables, point.values()))\n",
        "    for i in range(len(variables)):\n",
        "        linearized_func += derivatives_at_point[i] * (sp.Symbol(variables[i]) - point[variables[i]])\n",
        "\n",
        "    return linearized_func\n"
      ],
      "metadata": {
        "id": "W8EAttXxlMxX"
      },
      "execution_count": 4,
      "outputs": []
    },
    {
      "cell_type": "code",
      "source": [
        "import math\n",
        "import re\n",
        "\n",
        "def evaluate_expression(expression):\n",
        "    # Define the regular expression pattern to match the function substitutions\n",
        "    pattern = r'(?<![a-zA-Z0-9_])((sin|cos|tan|tanh|exp|log|sqrt)\\((-?\\d+(\\.\\d+)?)\\))(?![a-zA-Z0-9_])'\n",
        "\n",
        "    # Define a function to evaluate the matched substitutions\n",
        "    def evaluate(match):\n",
        "        function = match.group(2)\n",
        "        number = float(match.group(3))\n",
        "        result = expression\n",
        "        if function == 'sin':\n",
        "            return str(math.sin(number))\n",
        "        elif function == 'cos':\n",
        "            return str(math.cos(number))\n",
        "        elif function == 'tan':\n",
        "            return str(math.tan(number))\n",
        "        elif function == 'tanh':\n",
        "            return str(math.tanh(number))\n",
        "        elif function == 'exp':\n",
        "            return str(math.exp(number))\n",
        "        elif function == 'log':\n",
        "            return str(math.log(number))\n",
        "        elif function == 'sqrt':\n",
        "            return str(math.sqrt(number))\n",
        "\n",
        "    # Perform the substitutions using the evaluate function\n",
        "    result = expression\n",
        "    match = re.search(pattern, str(expression))\n",
        "    print(match)\n",
        "    if match:\n",
        "      result = re.sub(pattern, evaluate, str(expression))\n",
        "\n",
        "    return result\n"
      ],
      "metadata": {
        "id": "npswHKVbh1hV"
      },
      "execution_count": 5,
      "outputs": []
    },
    {
      "cell_type": "code",
      "source": [
        "# import sympy as sp\n",
        "\n",
        "# def linearize_expression(expression, variables, center):\n",
        "#     \"\"\"\n",
        "#     Linearize a non-linear expression with multiple variables using a Taylor series expansion.\n",
        "\n",
        "#     Arguments:\n",
        "#     expression -- The non-linear expression to be linearized.\n",
        "#     variables -- The variables of the expression.\n",
        "#     center -- The point around which the Taylor series expansion is performed.\n",
        "\n",
        "#     Returns:\n",
        "#     The linearized expression.\n",
        "#     \"\"\"\n",
        "#     # Convert the expression from a string to a SymPy expression\n",
        "#     expression = sp.sympify(expression)\n",
        "\n",
        "#     # Compute the partial derivatives of the expression with respect to each variable\n",
        "#     derivatives = [expression.diff(variable) for variable in variables]\n",
        "\n",
        "#     # Compute the linearized expression using the partial derivatives and the center point\n",
        "#     linearized_expression = expression.subs([(variable, value) for variable, value in zip(variables, center)])\n",
        "\n",
        "#     for variable, derivative in zip(variables, derivatives):\n",
        "#         variable_value = center[variables.index(variable)]\n",
        "#         linearized_expression += derivative.subs([(variable, variable_value)]) * (variable - variable_value)\n",
        "\n",
        "#     linearized_expression = evaluate_expression(linearized_expression)\n",
        "#     return linearized_expression\n"
      ],
      "metadata": {
        "id": "7hhqILXrQMuY"
      },
      "execution_count": null,
      "outputs": []
    },
    {
      "cell_type": "code",
      "source": [
        "import sympy as sp\n",
        "\n",
        "def linearize_expression(expression, variables, center):\n",
        "    \"\"\"\n",
        "    Linearize a non-linear expression with multiple variables using a Taylor series expansion.\n",
        "\n",
        "    Arguments:\n",
        "    expression -- The non-linear expression to be linearized.\n",
        "    variables -- The variables of the expression.\n",
        "    center -- The point around which the Taylor series expansion is performed.\n",
        "\n",
        "    Returns:\n",
        "    The linearized expression.\n",
        "    \"\"\"\n",
        "    # Convert the expression from a string to a SymPy expression\n",
        "    expression = sp.sympify(expression)\n",
        "\n",
        "    # Compute the partial derivatives of the expression with respect to each variable\n",
        "    derivatives = [expression.diff(variable) for variable in variables]\n",
        "\n",
        "    # Compute the linearized expression using the partial derivatives and the center point\n",
        "    linearized_expression = expression.subs([(variable, value) for variable, value in zip(variables, center)])\n",
        "\n",
        "    for variable, derivative in zip(variables, derivatives):\n",
        "        variable_value = center[variables.index(variable)]\n",
        "        linearized_expression += derivative.subs([(var, val) for var, val in zip(variables, center)]) * (variable - variable_value)\n",
        "\n",
        "    linearized_expression = sp.simplify(linearized_expression)\n",
        "    linearized_expression = evaluate_expression(linearized_expression)\n",
        "    return linearized_expression\n"
      ],
      "metadata": {
        "id": "aThZbnPR1_lR"
      },
      "execution_count": 6,
      "outputs": []
    },
    {
      "cell_type": "code",
      "source": [
        "def convert_division_to_multiplication(expression):\n",
        "    terms = re.split(r'([-+*/])', expression)\n",
        "    converted_terms = []\n",
        "\n",
        "    i = 0\n",
        "    while i < len(terms):\n",
        "        term = terms[i]\n",
        "        if term.strip() == '/':\n",
        "            divisor = float(terms[i + 1])\n",
        "            variable = terms[i + 2].strip()\n",
        "            converted_terms.append(f'{divisor:.15g} * {variable}')\n",
        "            i += 2\n",
        "        else:\n",
        "            converted_terms.append(term)\n",
        "        i += 1\n",
        "\n",
        "    converted_expression = ''.join(converted_terms)\n",
        "    return converted_expression"
      ],
      "metadata": {
        "id": "nbL_sYSVG1cc"
      },
      "execution_count": 168,
      "outputs": []
    },
    {
      "cell_type": "code",
      "source": [
        "from sympy import symbols, sympify, Float\n",
        "\n",
        "def simplify_expression(expression):\n",
        "    # Parse the expression\n",
        "    parsed_expr = sympify(expression)\n",
        "\n",
        "    # Get the individual terms\n",
        "    terms = parsed_expr.as_ordered_terms()\n",
        "\n",
        "    # Separate the terms into constant and variable parts\n",
        "    constant_terms = []\n",
        "    variable_terms = []\n",
        "    for term in terms:\n",
        "        if term.is_number:\n",
        "            constant_terms.append(term)\n",
        "        else:\n",
        "            variable_terms.append(term)\n",
        "\n",
        "    # Combine the constant and variable parts\n",
        "    simplified_str = \" + \".join(str(term) for term in variable_terms)\n",
        "    if constant_terms:\n",
        "        constant_str = \" + \".join(str(Float(term)) for term in constant_terms)\n",
        "        if simplified_str:\n",
        "            simplified_str += \" + \" + constant_str\n",
        "        else:\n",
        "            simplified_str = constant_str\n",
        "\n",
        "    return simplified_str"
      ],
      "metadata": {
        "id": "x3V-Y4wf4M_0"
      },
      "execution_count": 150,
      "outputs": []
    },
    {
      "cell_type": "code",
      "source": [
        "ex1 = simplify_expression(\"x/2 + 5/2 - y/2 - x\")\n",
        "print(ex1)\n",
        "ex2 = convert_division_to_multiplication(ex1)\n",
        "print(ex2)"
      ],
      "metadata": {
        "colab": {
          "base_uri": "https://localhost:8080/"
        },
        "id": "IZpg5HDhrAuj",
        "outputId": "7cda4e67-1bda-4f54-80ae-8448acf9a140"
      },
      "execution_count": 169,
      "outputs": [
        {
          "output_type": "stream",
          "name": "stdout",
          "text": [
            "-x/2 + -y/2 + 2.50000000000000\n",
            "-x2 * + -y2 * + 2.50000000000000\n"
          ]
        }
      ]
    },
    {
      "cell_type": "code",
      "source": [
        "# Example usage:\n",
        "expression = '(x - 4)*2.1 + 3*(y - 5.5) - 5 + 7'\n",
        "rearranged = simplify_expression(expression)\n",
        "print(rearranged)\n"
      ],
      "metadata": {
        "colab": {
          "base_uri": "https://localhost:8080/"
        },
        "id": "az5QtHZt4QNV",
        "outputId": "f1cb3132-c14a-40a2-d81c-8ccb2ef093e7"
      },
      "execution_count": 8,
      "outputs": [
        {
          "output_type": "stream",
          "name": "stdout",
          "text": [
            "2.1*x + 3*y - 22.9\n"
          ]
        }
      ]
    },
    {
      "cell_type": "code",
      "source": [
        "def read_obj_func(filename):\n",
        "    variables = []\n",
        "    objective_function = \"\"\n",
        "    is_max = False\n",
        "    with open(filename, 'r') as file:\n",
        "        lines = file.readlines()\n",
        "        for line in lines:\n",
        "            line = line.strip()\n",
        "            if line.startswith(\"VAR\"):\n",
        "                # Extract variable names\n",
        "                variable_line = line.split(' ')\n",
        "                var = variable_line[1:]\n",
        "                var = sp.symbols(var)\n",
        "                variables.extend(var)\n",
        "            elif line.startswith(\"MAX\") or line.startswith(\"MIN\"):\n",
        "                if line.startswith(\"MAX\"):\n",
        "                    is_max =True\n",
        "                # Extract objective function\n",
        "                objective_function = line[4:]\n",
        "\n",
        "    return variables, objective_function, is_max"
      ],
      "metadata": {
        "id": "n29P1Ah7vCyF"
      },
      "execution_count": 9,
      "outputs": []
    },
    {
      "cell_type": "code",
      "source": [
        "from sympy.core.evalf import N\n",
        "import re\n",
        "\n",
        "def remove_trailing_operators(expression):\n",
        "\n",
        "    # Use regular expressions to match the trailing \"+\" or \"-\" signs\n",
        "    pattern = r\"([+-])$\"\n",
        "    match = re.search(pattern, expression)\n",
        "\n",
        "    if match:\n",
        "        # Remove the trailing operator if found\n",
        "        expression = expression[:-1]\n",
        "\n",
        "    return expression\n",
        "\n",
        "def extract_constant(expression):\n",
        "    expression = expression.strip()  # Remove leading/trailing whitespaces\n",
        "    pattern = r'(?<!\\*)[-+]?\\b\\d*\\.?\\d+(?=\\D*$)(?![\\w*])'  # Updated pattern to match the constant\n",
        "\n",
        "    match = re.search(pattern, expression)\n",
        "    if match:\n",
        "        extracted_part = match.group(0)\n",
        "        return extracted_part\n",
        "\n",
        "    return None\n",
        "\n",
        "def is_string_number(string):\n",
        "    try:\n",
        "        float(string)  # or int(string) if you want to check for integers only\n",
        "        return True\n",
        "    except ValueError:\n",
        "        return False\n",
        "\n",
        "\n",
        "\n",
        "def remove_constants(expression):\n",
        "    # # Regular expression pattern to match constant numbers\n",
        "    # pattern = r'(?<!\\*)\\b\\d+\\b(?!\\*)'\n",
        "    # constant = extract_pattern(expression)\n",
        "    # # Remove constants that are not multiplied with variables\n",
        "    # expression = re.sub(pattern, '', expression)\n",
        "\n",
        "    expression = expression.strip()  # Remove leading/trailing whitespaces\n",
        "    constant_pattern = r\"\\b[-+]?[0-9]*\\.?[0-9]+\\b\"  # Pattern to match a constant\n",
        "    constant = extract_constant(expression)\n",
        "\n",
        "    # Check if the expression ends with a constant\n",
        "    if re.search(constant_pattern + r\"\\s*$\", expression):\n",
        "        # Remove the constant from the end of the expression\n",
        "        expression = re.sub(constant_pattern + r\"\\s*$\", \"\", expression)\n",
        "\n",
        "    letters= expression.split(' ')\n",
        "    is_plus = False\n",
        "    exit = False\n",
        "    if constant == None:\n",
        "      return expression , constant , is_plus , exit\n",
        "    if len(letters) == 1:\n",
        "      exit = True\n",
        "      return expression , constant , is_plus , exit\n",
        "    elif letters[-2] == '+' :\n",
        "      is_plus = True\n",
        "    expression = remove_trailing_operators(expression.strip())\n",
        "    return expression , constant , is_plus , exit"
      ],
      "metadata": {
        "id": "yJLD_qAi1BB2"
      },
      "execution_count": 10,
      "outputs": []
    },
    {
      "cell_type": "code",
      "source": [
        "expression  = 'x/200'\n",
        "expression , constant , is_plus , exit= remove_constants(expression)\n",
        "print(expression , constant , is_plus)"
      ],
      "metadata": {
        "colab": {
          "base_uri": "https://localhost:8080/"
        },
        "id": "holkL5na8E86",
        "outputId": "80d86d59-feb7-4488-b6ee-08d915fd1108"
      },
      "execution_count": 43,
      "outputs": [
        {
          "output_type": "stream",
          "name": "stdout",
          "text": [
            "x/ 200 False\n"
          ]
        }
      ]
    },
    {
      "cell_type": "code",
      "source": [
        "import re"
      ],
      "metadata": {
        "id": "U8ETJepmxaya"
      },
      "execution_count": 11,
      "outputs": []
    },
    {
      "cell_type": "code",
      "source": [
        "def extract_function_from_line(equation):\n",
        "    comparison_operators = ['<', '>', '<=', '>=', '==', '!=']\n",
        "\n",
        "    for operator in comparison_operators:\n",
        "        if operator in equation:\n",
        "            return equation.split(operator)[0].strip()\n",
        "\n",
        "def extract_inequation(line):\n",
        "    # Regular expression pattern to match the inequation part\n",
        "    pattern = r'^c\\d+\\s+(.*)$'\n",
        "    match = re.match(pattern, line)\n",
        "\n",
        "    if match:\n",
        "        inequation = match.group(1)\n",
        "        # Extract the comparison operator and the number after it\n",
        "        operator_and_number = re.findall(r'([<>]=?)\\s*(-?\\d+)', inequation)\n",
        "        if operator_and_number:\n",
        "            operator, number = operator_and_number[0]\n",
        "            return f\"{operator} {number}\"\n",
        "\n",
        "    return None\n",
        "\n",
        "def remove_first_word(line):\n",
        "    pattern = r'^c\\d+\\s(.*)$'\n",
        "    match = re.match(pattern, line)\n",
        "    if match:\n",
        "        return match.group(1)\n",
        "    return line\n",
        "\n",
        "def read_constraints(filename):\n",
        "    variables = []\n",
        "    constraints_functions = []\n",
        "    inequalities = []\n",
        "    with open(filename, 'r') as file:\n",
        "        lines = file.readlines()\n",
        "        for line in lines:\n",
        "            line = line.strip()\n",
        "            if line.startswith(\"VAR\"):\n",
        "                # Extract variable names\n",
        "                variable_line = line.split(' ')\n",
        "                var = variable_line[1:]\n",
        "                var = sp.symbols(var)\n",
        "                variables.extend(var)\n",
        "            elif line.startswith(\"c\"):\n",
        "                # Extract objective function\n",
        "                inequalities.append(extract_inequation(line))\n",
        "                line = remove_first_word(line)\n",
        "                constraints_functions.append(extract_function_from_line(line))\n",
        "\n",
        "    return variables, constraints_functions , inequalities"
      ],
      "metadata": {
        "id": "IPUAWuprvcBa"
      },
      "execution_count": 12,
      "outputs": []
    },
    {
      "cell_type": "code",
      "source": [
        "def generate_lp_file(objective_function, constraints, filename,inequalities , is_max):\n",
        "    # Open the file for writing\n",
        "    with open(filename, 'w') as file:\n",
        "        # Write the objective function\n",
        "        if is_max == True :\n",
        "          file.write(\"Maximize\\n\")\n",
        "        else:\n",
        "          file.write(\"Minimize\\n\")\n",
        "        file.write(str(objective_function).replace(\"*\", \" \") + \"\\n\" + \"\\n\")\n",
        "\n",
        "        # Write the constraints\n",
        "        file.write(\"Subject To\\n\")\n",
        "        c = 0\n",
        "        for constraint in constraints:\n",
        "            file.write(str(constraint).replace(\"*\", \" \") +\" \" + inequalities[c] + \"\\n\")\n",
        "            c+=1\n",
        "\n",
        "        # Write the end of the file\n",
        "        file.write(\"\\nEnd\")"
      ],
      "metadata": {
        "id": "VsN2XEWifhM1"
      },
      "execution_count": 13,
      "outputs": []
    },
    {
      "cell_type": "code",
      "source": [
        "variables, objective_func , is_max = read_obj_func('non_linear.txt')\n",
        "point = {'x' : 15 , 'y' : 5}\n",
        "print(objective_func)\n",
        "vars = []\n",
        "for var in variables:\n",
        "  print(var)\n",
        "  vars.append(sp.symbols(str(var)))\n",
        "x, y = sp.symbols('x y')\n",
        "objective_func = linearize_expression(objective_func, vars , [15, 5])\n",
        "print(objective_func)"
      ],
      "metadata": {
        "id": "IKDJLMXyYgzv",
        "colab": {
          "base_uri": "https://localhost:8080/"
        },
        "outputId": "931a7a97-684a-4646-e654-fb67e037eaea"
      },
      "execution_count": 14,
      "outputs": [
        {
          "output_type": "stream",
          "name": "stdout",
          "text": [
            "sin(x) +sin(y)\n",
            "x\n",
            "y\n",
            "<re.Match object; span=(9, 16), match='cos(15)'>\n",
            "(x - 15)*-0.7596879128588213 + (y - 5)*0.28366218546322625 + -0.9589242746631385 + 0.6502878401571168\n"
          ]
        }
      ]
    },
    {
      "cell_type": "code",
      "source": [
        "x, y = sp.symbols('x y')\n",
        "expression = 'sin(x) + cos(y)'\n",
        "\n",
        "linearized_expr = linearize_expression(expression, [x, y], [1, 0])\n",
        "\n",
        "print(linearized_expr)"
      ],
      "metadata": {
        "colab": {
          "base_uri": "https://localhost:8080/"
        },
        "id": "NHUiDz6uTKd5",
        "outputId": "199b7f06-1339-46a9-c9e1-2d936be30585"
      },
      "execution_count": 16,
      "outputs": [
        {
          "output_type": "stream",
          "name": "stdout",
          "text": [
            "<re.Match object; span=(8, 14), match='cos(1)'>\n",
            "(x - 1)*0.5403023058681398 + 0.8414709848078965 + 1\n"
          ]
        }
      ]
    },
    {
      "cell_type": "code",
      "source": [
        "variables, constraints_functions , inequalities = read_constraints('non_linear.txt')\n",
        "constraints_functions[0] = linearize(constraints_functions[0], variables, point)\n",
        "constraints_functions[1] = linearize(constraints_functions[1], variables, point)"
      ],
      "metadata": {
        "id": "5X3crpFkZj2R",
        "colab": {
          "base_uri": "https://localhost:8080/",
          "height": 360
        },
        "outputId": "89a952bc-ca12-4175-8113-304848fd52a3"
      },
      "execution_count": 17,
      "outputs": [
        {
          "output_type": "error",
          "ename": "TypeError",
          "evalue": "ignored",
          "traceback": [
            "\u001b[0;31m---------------------------------------------------------------------------\u001b[0m",
            "\u001b[0;31mTypeError\u001b[0m                                 Traceback (most recent call last)",
            "\u001b[0;32m<ipython-input-17-e4db81e8857f>\u001b[0m in \u001b[0;36m<cell line: 2>\u001b[0;34m()\u001b[0m\n\u001b[1;32m      1\u001b[0m \u001b[0mvariables\u001b[0m\u001b[0;34m,\u001b[0m \u001b[0mconstraints_functions\u001b[0m \u001b[0;34m,\u001b[0m \u001b[0minequalities\u001b[0m \u001b[0;34m=\u001b[0m \u001b[0mread_constraints\u001b[0m\u001b[0;34m(\u001b[0m\u001b[0;34m'non_linear.txt'\u001b[0m\u001b[0;34m)\u001b[0m\u001b[0;34m\u001b[0m\u001b[0;34m\u001b[0m\u001b[0m\n\u001b[0;32m----> 2\u001b[0;31m \u001b[0mconstraints_functions\u001b[0m\u001b[0;34m[\u001b[0m\u001b[0;36m0\u001b[0m\u001b[0;34m]\u001b[0m \u001b[0;34m=\u001b[0m \u001b[0mlinearize\u001b[0m\u001b[0;34m(\u001b[0m\u001b[0mconstraints_functions\u001b[0m\u001b[0;34m[\u001b[0m\u001b[0;36m0\u001b[0m\u001b[0;34m]\u001b[0m\u001b[0;34m,\u001b[0m \u001b[0mvariables\u001b[0m\u001b[0;34m,\u001b[0m \u001b[0mpoint\u001b[0m\u001b[0;34m)\u001b[0m\u001b[0;34m\u001b[0m\u001b[0;34m\u001b[0m\u001b[0m\n\u001b[0m\u001b[1;32m      3\u001b[0m \u001b[0mconstraints_functions\u001b[0m\u001b[0;34m[\u001b[0m\u001b[0;36m1\u001b[0m\u001b[0;34m]\u001b[0m \u001b[0;34m=\u001b[0m \u001b[0mlinearize\u001b[0m\u001b[0;34m(\u001b[0m\u001b[0mconstraints_functions\u001b[0m\u001b[0;34m[\u001b[0m\u001b[0;36m1\u001b[0m\u001b[0;34m]\u001b[0m\u001b[0;34m,\u001b[0m \u001b[0mvariables\u001b[0m\u001b[0;34m,\u001b[0m \u001b[0mpoint\u001b[0m\u001b[0;34m)\u001b[0m\u001b[0;34m\u001b[0m\u001b[0;34m\u001b[0m\u001b[0m\n",
            "\u001b[0;32m<ipython-input-4-133961729b05>\u001b[0m in \u001b[0;36mlinearize\u001b[0;34m(func, variables, point)\u001b[0m\n\u001b[1;32m     15\u001b[0m \u001b[0;34m\u001b[0m\u001b[0m\n\u001b[1;32m     16\u001b[0m     \u001b[0;31m# Create symbolic variables for the point of linearization\u001b[0m\u001b[0;34m\u001b[0m\u001b[0;34m\u001b[0m\u001b[0m\n\u001b[0;32m---> 17\u001b[0;31m     \u001b[0mpoint_vars\u001b[0m \u001b[0;34m=\u001b[0m \u001b[0;34m{\u001b[0m\u001b[0mvar\u001b[0m\u001b[0;34m:\u001b[0m \u001b[0msp\u001b[0m\u001b[0;34m.\u001b[0m\u001b[0mSymbol\u001b[0m\u001b[0;34m(\u001b[0m\u001b[0mvar\u001b[0m\u001b[0;34m)\u001b[0m \u001b[0;32mfor\u001b[0m \u001b[0mvar\u001b[0m \u001b[0;32min\u001b[0m \u001b[0mvariables\u001b[0m\u001b[0;34m}\u001b[0m\u001b[0;34m\u001b[0m\u001b[0;34m\u001b[0m\u001b[0m\n\u001b[0m\u001b[1;32m     18\u001b[0m \u001b[0;34m\u001b[0m\u001b[0m\n\u001b[1;32m     19\u001b[0m     \u001b[0;31m# Replace variables in the function with the symbolic variables\u001b[0m\u001b[0;34m\u001b[0m\u001b[0;34m\u001b[0m\u001b[0m\n",
            "\u001b[0;32m<ipython-input-4-133961729b05>\u001b[0m in \u001b[0;36m<dictcomp>\u001b[0;34m(.0)\u001b[0m\n\u001b[1;32m     15\u001b[0m \u001b[0;34m\u001b[0m\u001b[0m\n\u001b[1;32m     16\u001b[0m     \u001b[0;31m# Create symbolic variables for the point of linearization\u001b[0m\u001b[0;34m\u001b[0m\u001b[0;34m\u001b[0m\u001b[0m\n\u001b[0;32m---> 17\u001b[0;31m     \u001b[0mpoint_vars\u001b[0m \u001b[0;34m=\u001b[0m \u001b[0;34m{\u001b[0m\u001b[0mvar\u001b[0m\u001b[0;34m:\u001b[0m \u001b[0msp\u001b[0m\u001b[0;34m.\u001b[0m\u001b[0mSymbol\u001b[0m\u001b[0;34m(\u001b[0m\u001b[0mvar\u001b[0m\u001b[0;34m)\u001b[0m \u001b[0;32mfor\u001b[0m \u001b[0mvar\u001b[0m \u001b[0;32min\u001b[0m \u001b[0mvariables\u001b[0m\u001b[0;34m}\u001b[0m\u001b[0;34m\u001b[0m\u001b[0;34m\u001b[0m\u001b[0m\n\u001b[0m\u001b[1;32m     18\u001b[0m \u001b[0;34m\u001b[0m\u001b[0m\n\u001b[1;32m     19\u001b[0m     \u001b[0;31m# Replace variables in the function with the symbolic variables\u001b[0m\u001b[0;34m\u001b[0m\u001b[0;34m\u001b[0m\u001b[0m\n",
            "\u001b[0;32m/usr/local/lib/python3.10/dist-packages/sympy/core/symbol.py\u001b[0m in \u001b[0;36m__new__\u001b[0;34m(cls, name, **assumptions)\u001b[0m\n\u001b[1;32m    294\u001b[0m         \"\"\"\n\u001b[1;32m    295\u001b[0m         \u001b[0mcls\u001b[0m\u001b[0;34m.\u001b[0m\u001b[0m_sanitize\u001b[0m\u001b[0;34m(\u001b[0m\u001b[0massumptions\u001b[0m\u001b[0;34m,\u001b[0m \u001b[0mcls\u001b[0m\u001b[0;34m)\u001b[0m\u001b[0;34m\u001b[0m\u001b[0;34m\u001b[0m\u001b[0m\n\u001b[0;32m--> 296\u001b[0;31m         \u001b[0;32mreturn\u001b[0m \u001b[0mSymbol\u001b[0m\u001b[0;34m.\u001b[0m\u001b[0m__xnew_cached_\u001b[0m\u001b[0;34m(\u001b[0m\u001b[0mcls\u001b[0m\u001b[0;34m,\u001b[0m \u001b[0mname\u001b[0m\u001b[0;34m,\u001b[0m \u001b[0;34m**\u001b[0m\u001b[0massumptions\u001b[0m\u001b[0;34m)\u001b[0m\u001b[0;34m\u001b[0m\u001b[0;34m\u001b[0m\u001b[0m\n\u001b[0m\u001b[1;32m    297\u001b[0m \u001b[0;34m\u001b[0m\u001b[0m\n\u001b[1;32m    298\u001b[0m     \u001b[0;34m@\u001b[0m\u001b[0mstaticmethod\u001b[0m\u001b[0;34m\u001b[0m\u001b[0;34m\u001b[0m\u001b[0m\n",
            "\u001b[0;32m/usr/local/lib/python3.10/dist-packages/sympy/core/cache.py\u001b[0m in \u001b[0;36mwrapper\u001b[0;34m(*args, **kwargs)\u001b[0m\n\u001b[1;32m     68\u001b[0m         \u001b[0;32mdef\u001b[0m \u001b[0mwrapper\u001b[0m\u001b[0;34m(\u001b[0m\u001b[0;34m*\u001b[0m\u001b[0margs\u001b[0m\u001b[0;34m,\u001b[0m \u001b[0;34m**\u001b[0m\u001b[0mkwargs\u001b[0m\u001b[0;34m)\u001b[0m\u001b[0;34m:\u001b[0m\u001b[0;34m\u001b[0m\u001b[0;34m\u001b[0m\u001b[0m\n\u001b[1;32m     69\u001b[0m             \u001b[0;32mtry\u001b[0m\u001b[0;34m:\u001b[0m\u001b[0;34m\u001b[0m\u001b[0;34m\u001b[0m\u001b[0m\n\u001b[0;32m---> 70\u001b[0;31m                 \u001b[0mretval\u001b[0m \u001b[0;34m=\u001b[0m \u001b[0mcfunc\u001b[0m\u001b[0;34m(\u001b[0m\u001b[0;34m*\u001b[0m\u001b[0margs\u001b[0m\u001b[0;34m,\u001b[0m \u001b[0;34m**\u001b[0m\u001b[0mkwargs\u001b[0m\u001b[0;34m)\u001b[0m\u001b[0;34m\u001b[0m\u001b[0;34m\u001b[0m\u001b[0m\n\u001b[0m\u001b[1;32m     71\u001b[0m             \u001b[0;32mexcept\u001b[0m \u001b[0mTypeError\u001b[0m \u001b[0;32mas\u001b[0m \u001b[0me\u001b[0m\u001b[0;34m:\u001b[0m\u001b[0;34m\u001b[0m\u001b[0;34m\u001b[0m\u001b[0m\n\u001b[1;32m     72\u001b[0m                 \u001b[0;32mif\u001b[0m \u001b[0;32mnot\u001b[0m \u001b[0me\u001b[0m\u001b[0;34m.\u001b[0m\u001b[0margs\u001b[0m \u001b[0;32mor\u001b[0m \u001b[0;32mnot\u001b[0m \u001b[0me\u001b[0m\u001b[0;34m.\u001b[0m\u001b[0margs\u001b[0m\u001b[0;34m[\u001b[0m\u001b[0;36m0\u001b[0m\u001b[0;34m]\u001b[0m\u001b[0;34m.\u001b[0m\u001b[0mstartswith\u001b[0m\u001b[0;34m(\u001b[0m\u001b[0;34m'unhashable type:'\u001b[0m\u001b[0;34m)\u001b[0m\u001b[0;34m:\u001b[0m\u001b[0;34m\u001b[0m\u001b[0;34m\u001b[0m\u001b[0m\n",
            "\u001b[0;32m/usr/local/lib/python3.10/dist-packages/sympy/core/symbol.py\u001b[0m in \u001b[0;36m__xnew_cached_\u001b[0;34m(cls, name, **assumptions)\u001b[0m\n\u001b[1;32m    324\u001b[0m     \u001b[0;34m@\u001b[0m\u001b[0mcacheit\u001b[0m\u001b[0;34m\u001b[0m\u001b[0;34m\u001b[0m\u001b[0m\n\u001b[1;32m    325\u001b[0m     \u001b[0;32mdef\u001b[0m \u001b[0m__xnew_cached_\u001b[0m\u001b[0;34m(\u001b[0m\u001b[0mcls\u001b[0m\u001b[0;34m,\u001b[0m \u001b[0mname\u001b[0m\u001b[0;34m,\u001b[0m \u001b[0;34m**\u001b[0m\u001b[0massumptions\u001b[0m\u001b[0;34m)\u001b[0m\u001b[0;34m:\u001b[0m  \u001b[0;31m# symbols are always cached\u001b[0m\u001b[0;34m\u001b[0m\u001b[0;34m\u001b[0m\u001b[0m\n\u001b[0;32m--> 326\u001b[0;31m         \u001b[0;32mreturn\u001b[0m \u001b[0mSymbol\u001b[0m\u001b[0;34m.\u001b[0m\u001b[0m__xnew__\u001b[0m\u001b[0;34m(\u001b[0m\u001b[0mcls\u001b[0m\u001b[0;34m,\u001b[0m \u001b[0mname\u001b[0m\u001b[0;34m,\u001b[0m \u001b[0;34m**\u001b[0m\u001b[0massumptions\u001b[0m\u001b[0;34m)\u001b[0m\u001b[0;34m\u001b[0m\u001b[0;34m\u001b[0m\u001b[0m\n\u001b[0m\u001b[1;32m    327\u001b[0m \u001b[0;34m\u001b[0m\u001b[0m\n\u001b[1;32m    328\u001b[0m     \u001b[0;32mdef\u001b[0m \u001b[0m__getnewargs_ex__\u001b[0m\u001b[0;34m(\u001b[0m\u001b[0mself\u001b[0m\u001b[0;34m)\u001b[0m\u001b[0;34m:\u001b[0m\u001b[0;34m\u001b[0m\u001b[0;34m\u001b[0m\u001b[0m\n",
            "\u001b[0;32m/usr/local/lib/python3.10/dist-packages/sympy/core/symbol.py\u001b[0m in \u001b[0;36m__xnew__\u001b[0;34m(cls, name, **assumptions)\u001b[0m\n\u001b[1;32m    299\u001b[0m     \u001b[0;32mdef\u001b[0m \u001b[0m__xnew__\u001b[0m\u001b[0;34m(\u001b[0m\u001b[0mcls\u001b[0m\u001b[0;34m,\u001b[0m \u001b[0mname\u001b[0m\u001b[0;34m,\u001b[0m \u001b[0;34m**\u001b[0m\u001b[0massumptions\u001b[0m\u001b[0;34m)\u001b[0m\u001b[0;34m:\u001b[0m  \u001b[0;31m# never cached (e.g. dummy)\u001b[0m\u001b[0;34m\u001b[0m\u001b[0;34m\u001b[0m\u001b[0m\n\u001b[1;32m    300\u001b[0m         \u001b[0;32mif\u001b[0m \u001b[0;32mnot\u001b[0m \u001b[0misinstance\u001b[0m\u001b[0;34m(\u001b[0m\u001b[0mname\u001b[0m\u001b[0;34m,\u001b[0m \u001b[0mstr\u001b[0m\u001b[0;34m)\u001b[0m\u001b[0;34m:\u001b[0m\u001b[0;34m\u001b[0m\u001b[0;34m\u001b[0m\u001b[0m\n\u001b[0;32m--> 301\u001b[0;31m             \u001b[0;32mraise\u001b[0m \u001b[0mTypeError\u001b[0m\u001b[0;34m(\u001b[0m\u001b[0;34m\"name should be a string, not %s\"\u001b[0m \u001b[0;34m%\u001b[0m \u001b[0mrepr\u001b[0m\u001b[0;34m(\u001b[0m\u001b[0mtype\u001b[0m\u001b[0;34m(\u001b[0m\u001b[0mname\u001b[0m\u001b[0;34m)\u001b[0m\u001b[0;34m)\u001b[0m\u001b[0;34m)\u001b[0m\u001b[0;34m\u001b[0m\u001b[0;34m\u001b[0m\u001b[0m\n\u001b[0m\u001b[1;32m    302\u001b[0m \u001b[0;34m\u001b[0m\u001b[0m\n\u001b[1;32m    303\u001b[0m         \u001b[0mobj\u001b[0m \u001b[0;34m=\u001b[0m \u001b[0mExpr\u001b[0m\u001b[0;34m.\u001b[0m\u001b[0m__new__\u001b[0m\u001b[0;34m(\u001b[0m\u001b[0mcls\u001b[0m\u001b[0;34m)\u001b[0m\u001b[0;34m\u001b[0m\u001b[0;34m\u001b[0m\u001b[0m\n",
            "\u001b[0;31mTypeError\u001b[0m: name should be a string, not <class 'sympy.core.symbol.Symbol'>"
          ]
        }
      ]
    },
    {
      "cell_type": "code",
      "source": [
        "print(objective_func,constraints_functions,inequalities)"
      ],
      "metadata": {
        "colab": {
          "base_uri": "https://localhost:8080/"
        },
        "id": "j3wfLPP8aLfQ",
        "outputId": "c18f5cb5-8601-43c7-af0c-e751b51bf919"
      },
      "execution_count": null,
      "outputs": [
        {
          "output_type": "stream",
          "name": "stdout",
          "text": [
            "cosx + cosy [0.129099444873581*x + 1.93649167310371, x + y] ['> 1', '>= 0']\n"
          ]
        }
      ]
    },
    {
      "cell_type": "code",
      "source": [
        "point = {'x' : 1 , 'y' : 8}\n",
        "objective_func = linearize(objective_func, variables, point)\n",
        "objective_func , constant , is_plus= remove_constants(str(objective_func))"
      ],
      "metadata": {
        "colab": {
          "base_uri": "https://localhost:8080/"
        },
        "id": "gsnSJyG93Xyo",
        "outputId": "1e949ca2-feac-4287-ff7e-358dadd7f2f1"
      },
      "execution_count": null,
      "outputs": [
        {
          "output_type": "stream",
          "name": "stdout",
          "text": [
            "['203*x', '+', 'y'] y\n"
          ]
        }
      ]
    },
    {
      "cell_type": "code",
      "source": [
        "print(objective_func,constraints_functions,inequalities)"
      ],
      "metadata": {
        "colab": {
          "base_uri": "https://localhost:8080/"
        },
        "id": "Kpp7hOeD3gO1",
        "outputId": "c8efac10-12bb-4c36-9905-2d035dd0ad61"
      },
      "execution_count": null,
      "outputs": [
        {
          "output_type": "stream",
          "name": "stdout",
          "text": [
            "203*x + y [2*x + 100*y - 200, x + y] ['> 0', '>= 0']\n"
          ]
        }
      ]
    },
    {
      "cell_type": "code",
      "source": [
        "generate_lp_file(objective_func, constraints_functions, 'problem.lp',inequalities , is_max)"
      ],
      "metadata": {
        "id": "8F0IZzfZaXKl"
      },
      "execution_count": null,
      "outputs": []
    },
    {
      "cell_type": "code",
      "source": [
        "solve_linear_problem('problem.lp')"
      ],
      "metadata": {
        "colab": {
          "base_uri": "https://localhost:8080/",
          "height": 457
        },
        "id": "6QX68ZU3an0x",
        "outputId": "3c2db895-5bc8-467e-927e-8c422366df65"
      },
      "execution_count": null,
      "outputs": [
        {
          "output_type": "stream",
          "name": "stdout",
          "text": [
            "Error reading LP format file problem.lp at line 1\n",
            "Malformed term in expression\n",
            "Neighboring tokens: \" - ) sin() - (y - ) sin() + cos() \"\n",
            "\n",
            "Unable to read file\n"
          ]
        },
        {
          "output_type": "error",
          "ename": "GurobiError",
          "evalue": "ignored",
          "traceback": [
            "\u001b[0;31m---------------------------------------------------------------------------\u001b[0m",
            "\u001b[0;31mGurobiError\u001b[0m                               Traceback (most recent call last)",
            "\u001b[0;32m<ipython-input-88-034752c717ba>\u001b[0m in \u001b[0;36m<cell line: 1>\u001b[0;34m()\u001b[0m\n\u001b[0;32m----> 1\u001b[0;31m \u001b[0msolve_linear_problem\u001b[0m\u001b[0;34m(\u001b[0m\u001b[0;34m'problem.lp'\u001b[0m\u001b[0;34m)\u001b[0m\u001b[0;34m\u001b[0m\u001b[0;34m\u001b[0m\u001b[0m\n\u001b[0m",
            "\u001b[0;32m<ipython-input-65-4de7ad1c3b89>\u001b[0m in \u001b[0;36msolve_linear_problem\u001b[0;34m(filename)\u001b[0m\n\u001b[1;32m      2\u001b[0m \u001b[0;32mdef\u001b[0m \u001b[0msolve_linear_problem\u001b[0m\u001b[0;34m(\u001b[0m\u001b[0mfilename\u001b[0m\u001b[0;34m)\u001b[0m\u001b[0;34m:\u001b[0m\u001b[0;34m\u001b[0m\u001b[0;34m\u001b[0m\u001b[0m\n\u001b[1;32m      3\u001b[0m   \u001b[0;31m# Read the problem data from a file\u001b[0m\u001b[0;34m\u001b[0m\u001b[0;34m\u001b[0m\u001b[0m\n\u001b[0;32m----> 4\u001b[0;31m   \u001b[0mproblem\u001b[0m \u001b[0;34m=\u001b[0m \u001b[0mgp\u001b[0m\u001b[0;34m.\u001b[0m\u001b[0mread\u001b[0m\u001b[0;34m(\u001b[0m\u001b[0mfilename\u001b[0m\u001b[0;34m)\u001b[0m\u001b[0;34m\u001b[0m\u001b[0;34m\u001b[0m\u001b[0m\n\u001b[0m\u001b[1;32m      5\u001b[0m \u001b[0;34m\u001b[0m\u001b[0m\n\u001b[1;32m      6\u001b[0m   \u001b[0;31m# Create a Gurobi model instance\u001b[0m\u001b[0;34m\u001b[0m\u001b[0;34m\u001b[0m\u001b[0m\n",
            "\u001b[0;32msrc/gurobipy/gurobi.pxi\u001b[0m in \u001b[0;36mgurobipy.read\u001b[0;34m()\u001b[0m\n",
            "\u001b[0;32msrc/gurobipy/gurobi.pxi\u001b[0m in \u001b[0;36mgurobipy.gurobi.read\u001b[0;34m()\u001b[0m\n",
            "\u001b[0;31mGurobiError\u001b[0m: Unable to read model"
          ]
        }
      ]
    },
    {
      "cell_type": "code",
      "source": [
        "#pseudo code\n",
        "#1. read_obj_func('non_linear.txt')\n",
        "#2. read_constraints('non_linear.txt')\n",
        "#3. prev_point = {'x' : 1 , 'y' : 2} #initilaization\n",
        "#4. while (|prev_point - new_point| > epsilon)\n",
        "       # prev_point = new_point\n",
        "       #linearize(objective_func, variables, point)\n",
        "       #for contrraint in constraints:\n",
        "        #linearize(contrraint, variables, point)\n",
        "       #generate_lp_file(objective_func, constraints_functions, 'problem.lp',inequalities , is_max)\n",
        "       #new_point = solve_linear_problem('problem.lp')\n",
        "\n",
        "#5. return new_point"
      ],
      "metadata": {
        "id": "aYDEOADAeUHq"
      },
      "execution_count": null,
      "outputs": []
    },
    {
      "cell_type": "code",
      "source": [
        "import numpy as np"
      ],
      "metadata": {
        "id": "2MaGAhuY6JA-"
      },
      "execution_count": 18,
      "outputs": []
    },
    {
      "cell_type": "code",
      "source": [
        "def solve_project(file):\n",
        "  variables, objective_func , is_max = read_obj_func(file)\n",
        "  variables, constraints_functions , inequalities = read_constraints(file)\n",
        "  print(objective_func,is_max,variables, constraints_functions , inequalities)\n",
        "  prev_point = [100] #randomly chosen\n",
        "  new_point = [15]\n",
        "  new_constraints_functions = []\n",
        "  new_inequalities = []\n",
        "  diff = []\n",
        "  constant_inequalities = []\n",
        "  for j,var in enumerate(variables) :\n",
        "    diff.append( new_point[j]-prev_point[j] )\n",
        "  for inequality in inequalities:\n",
        "    list_inequality = inequality.split(' ')\n",
        "    constant_inequalities.append(list_inequality[-1])\n",
        "  print(np.linalg.norm(diff))\n",
        "  points = []\n",
        "  while(np.linalg.norm(diff)>0.1):\n",
        "    prev_point=new_point\n",
        "    lin_objective_func = linearize_expression(objective_func, variables , new_point)\n",
        "    print(lin_objective_func)\n",
        "    lin_objective_func = simplify_expression(lin_objective_func)\n",
        "    print(lin_objective_func)\n",
        "    lin_objective_func , zevel1,zevel2,zevel3  = remove_constants(str(lin_objective_func))\n",
        "    print(lin_objective_func)\n",
        "    for i in range(len(constraints_functions)):\n",
        "      new_const = linearize_expression(constraints_functions[i], variables, new_point)\n",
        "      new_const = simplify_expression(new_const)\n",
        "      new_constraints_functions.append(new_const)\n",
        "      new_constraints_functions[i]  ,constant , is_plus , exit =remove_constants(str(new_constraints_functions[i]))\n",
        "      if exit :\n",
        "        print('exitexitexitexitexit')\n",
        "        print(new_point)\n",
        "        return\n",
        "      if constant != None :\n",
        "          if is_plus:\n",
        "            new_number =  float(constant_inequalities[i]) - float(constant)\n",
        "            new_inequalities.append(inequalities[i])\n",
        "            new_inequalities[i]=new_inequalities[i].replace(constant_inequalities[i],str(new_number))\n",
        "          else:\n",
        "            new_number =  float(constant_inequalities[i]) + float(constant)\n",
        "            new_inequalities.append(inequalities[i])\n",
        "            new_inequalities[i]=(new_inequalities[i]).replace(constant_inequalities[i],str(new_number))\n",
        "      else:\n",
        "        new_inequalities.append(inequalities[i])\n",
        "    print(lin_objective_func,is_max,variables, new_constraints_functions , new_inequalities)\n",
        "    generate_lp_file(lin_objective_func, new_constraints_functions, 'problem.lp',new_inequalities , is_max)\n",
        "    new_point = solve_linear_problem('problem.lp')\n",
        "    new_constraints_functions = []\n",
        "    new_inequalities = []\n",
        "    diff = []\n",
        "    for j,var in enumerate(variables) :\n",
        "        diff.append( new_point[j]-prev_point[j] )\n",
        "    print(np.linalg.norm(diff))\n",
        "    if new_point in points:\n",
        "      break\n",
        "    points.append(new_point)\n",
        "  print(new_point)\n",
        "  return"
      ],
      "metadata": {
        "id": "gzFZ1E840-2S"
      },
      "execution_count": 41,
      "outputs": []
    },
    {
      "cell_type": "code",
      "source": [
        "solve_project('non_linear.txt')"
      ],
      "metadata": {
        "colab": {
          "base_uri": "https://localhost:8080/",
          "height": 1000
        },
        "id": "hZRqkkdHUxai",
        "outputId": "c652a145-7b80-48cc-baac-9eac6025be31"
      },
      "execution_count": 115,
      "outputs": [
        {
          "output_type": "stream",
          "name": "stdout",
          "text": [
            "x^-1 True [x] ['x'] ['>= 1']\n",
            "85.0\n",
            "None\n",
            "2/15 - x/225\n",
            "-x/225 + 0.13333333333333333\n",
            "-x/225 \n",
            "None\n",
            "-x/225  True [x] ['x'] ['>= 1']\n",
            "Read LP format model from file problem.lp\n",
            "Reading time = 0.00 seconds\n",
            ": 1 rows, 2 columns, 1 nonzeros\n",
            "Gurobi Optimizer version 10.0.1 build v10.0.1rc0 (linux64)\n",
            "\n",
            "CPU model: Intel(R) Xeon(R) CPU @ 2.20GHz, instruction set [SSE2|AVX|AVX2]\n",
            "Thread count: 1 physical cores, 2 logical processors, using up to 2 threads\n",
            "\n",
            "Optimize a model with 1 rows, 2 columns and 1 nonzeros\n",
            "Model fingerprint: 0x160ccd87\n",
            "Coefficient statistics:\n",
            "  Matrix range     [1e+00, 1e+00]\n",
            "  Objective range  [1e+00, 1e+00]\n",
            "  Bounds range     [0e+00, 0e+00]\n",
            "  RHS range        [1e+00, 1e+00]\n",
            "Presolve removed 1 rows and 2 columns\n",
            "Presolve time: 0.01s\n",
            "Presolve: All rows and columns removed\n",
            "Iteration    Objective       Primal Inf.    Dual Inf.      Time\n",
            "       0   -0.0000000e+00   0.000000e+00   0.000000e+00      0s\n",
            "\n",
            "Solved in 0 iterations and 0.01 seconds (0.00 work units)\n",
            "Optimal objective -0.000000000e+00\n",
            "##################solution##################\n",
            "Optimal objective value: -0.0\n",
            "x/225 0.0\n",
            "x 1.0\n",
            "[0.0, 1.0]\n",
            "############################################\n",
            "15.0\n",
            "None\n",
            "zoo*(x + 1)\n",
            "zoo*(x + 1)\n",
            "zoo*(x + 1)\n",
            "None\n",
            "zoo*(x + 1) True [x] ['x'] ['>= 1']\n",
            "Error reading LP format file problem.lp at line 4\n",
            "Malformed term in expression\n",
            "Neighboring tokens: \" zoo (x + 1) Subject To x >= 1 \"\n",
            "\n",
            "Unable to read file\n"
          ]
        },
        {
          "output_type": "stream",
          "name": "stderr",
          "text": [
            "<ipython-input-41-a1a3ac4e87b7>:48: DeprecationWarning: Deprecated, pass a TempConstr or use Model.addLConstr\n",
            "  new_point = solve_linear_problem('problem.lp')\n"
          ]
        },
        {
          "output_type": "error",
          "ename": "GurobiError",
          "evalue": "ignored",
          "traceback": [
            "\u001b[0;31m---------------------------------------------------------------------------\u001b[0m",
            "\u001b[0;31mGurobiError\u001b[0m                               Traceback (most recent call last)",
            "\u001b[0;32m<ipython-input-115-6597fdd7eb3d>\u001b[0m in \u001b[0;36m<cell line: 1>\u001b[0;34m()\u001b[0m\n\u001b[0;32m----> 1\u001b[0;31m \u001b[0msolve_project\u001b[0m\u001b[0;34m(\u001b[0m\u001b[0;34m'non_linear.txt'\u001b[0m\u001b[0;34m)\u001b[0m\u001b[0;34m\u001b[0m\u001b[0;34m\u001b[0m\u001b[0m\n\u001b[0m",
            "\u001b[0;32m<ipython-input-41-a1a3ac4e87b7>\u001b[0m in \u001b[0;36msolve_project\u001b[0;34m(file)\u001b[0m\n\u001b[1;32m     46\u001b[0m     \u001b[0mprint\u001b[0m\u001b[0;34m(\u001b[0m\u001b[0mlin_objective_func\u001b[0m\u001b[0;34m,\u001b[0m\u001b[0mis_max\u001b[0m\u001b[0;34m,\u001b[0m\u001b[0mvariables\u001b[0m\u001b[0;34m,\u001b[0m \u001b[0mnew_constraints_functions\u001b[0m \u001b[0;34m,\u001b[0m \u001b[0mnew_inequalities\u001b[0m\u001b[0;34m)\u001b[0m\u001b[0;34m\u001b[0m\u001b[0;34m\u001b[0m\u001b[0m\n\u001b[1;32m     47\u001b[0m     \u001b[0mgenerate_lp_file\u001b[0m\u001b[0;34m(\u001b[0m\u001b[0mlin_objective_func\u001b[0m\u001b[0;34m,\u001b[0m \u001b[0mnew_constraints_functions\u001b[0m\u001b[0;34m,\u001b[0m \u001b[0;34m'problem.lp'\u001b[0m\u001b[0;34m,\u001b[0m\u001b[0mnew_inequalities\u001b[0m \u001b[0;34m,\u001b[0m \u001b[0mis_max\u001b[0m\u001b[0;34m)\u001b[0m\u001b[0;34m\u001b[0m\u001b[0;34m\u001b[0m\u001b[0m\n\u001b[0;32m---> 48\u001b[0;31m     \u001b[0mnew_point\u001b[0m \u001b[0;34m=\u001b[0m \u001b[0msolve_linear_problem\u001b[0m\u001b[0;34m(\u001b[0m\u001b[0;34m'problem.lp'\u001b[0m\u001b[0;34m)\u001b[0m\u001b[0;34m\u001b[0m\u001b[0;34m\u001b[0m\u001b[0m\n\u001b[0m\u001b[1;32m     49\u001b[0m     \u001b[0mnew_constraints_functions\u001b[0m \u001b[0;34m=\u001b[0m \u001b[0;34m[\u001b[0m\u001b[0;34m]\u001b[0m\u001b[0;34m\u001b[0m\u001b[0;34m\u001b[0m\u001b[0m\n\u001b[1;32m     50\u001b[0m     \u001b[0mnew_inequalities\u001b[0m \u001b[0;34m=\u001b[0m \u001b[0;34m[\u001b[0m\u001b[0;34m]\u001b[0m\u001b[0;34m\u001b[0m\u001b[0;34m\u001b[0m\u001b[0m\n",
            "\u001b[0;32m<ipython-input-3-4de7ad1c3b89>\u001b[0m in \u001b[0;36msolve_linear_problem\u001b[0;34m(filename)\u001b[0m\n\u001b[1;32m      2\u001b[0m \u001b[0;32mdef\u001b[0m \u001b[0msolve_linear_problem\u001b[0m\u001b[0;34m(\u001b[0m\u001b[0mfilename\u001b[0m\u001b[0;34m)\u001b[0m\u001b[0;34m:\u001b[0m\u001b[0;34m\u001b[0m\u001b[0;34m\u001b[0m\u001b[0m\n\u001b[1;32m      3\u001b[0m   \u001b[0;31m# Read the problem data from a file\u001b[0m\u001b[0;34m\u001b[0m\u001b[0;34m\u001b[0m\u001b[0m\n\u001b[0;32m----> 4\u001b[0;31m   \u001b[0mproblem\u001b[0m \u001b[0;34m=\u001b[0m \u001b[0mgp\u001b[0m\u001b[0;34m.\u001b[0m\u001b[0mread\u001b[0m\u001b[0;34m(\u001b[0m\u001b[0mfilename\u001b[0m\u001b[0;34m)\u001b[0m\u001b[0;34m\u001b[0m\u001b[0;34m\u001b[0m\u001b[0m\n\u001b[0m\u001b[1;32m      5\u001b[0m \u001b[0;34m\u001b[0m\u001b[0m\n\u001b[1;32m      6\u001b[0m   \u001b[0;31m# Create a Gurobi model instance\u001b[0m\u001b[0;34m\u001b[0m\u001b[0;34m\u001b[0m\u001b[0m\n",
            "\u001b[0;32msrc/gurobipy/gurobi.pxi\u001b[0m in \u001b[0;36mgurobipy.read\u001b[0;34m()\u001b[0m\n",
            "\u001b[0;32msrc/gurobipy/gurobi.pxi\u001b[0m in \u001b[0;36mgurobipy.gurobi.read\u001b[0;34m()\u001b[0m\n",
            "\u001b[0;31mGurobiError\u001b[0m: Unable to read model"
          ]
        }
      ]
    }
  ]
}